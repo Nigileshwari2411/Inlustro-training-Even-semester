{
  "nbformat": 4,
  "nbformat_minor": 0,
  "metadata": {
    "colab": {
      "provenance": []
    },
    "kernelspec": {
      "name": "python3",
      "display_name": "Python 3"
    },
    "language_info": {
      "name": "python"
    }
  },
  "cells": [
    {
      "cell_type": "code",
      "execution_count": 1,
      "metadata": {
        "colab": {
          "base_uri": "https://localhost:8080/"
        },
        "id": "2ERQ_LZ7Z1El",
        "outputId": "742e7142-a21f-4bf8-d6d2-29a459fb2ae1"
      },
      "outputs": [
        {
          "output_type": "stream",
          "name": "stdout",
          "text": [
            "Nigileshwari\n",
            "Kowshi\n"
          ]
        }
      ],
      "source": [
        "x=\"Nigileshwari\"\n",
        "y=\"Kowshi\"\n",
        "print(x)\n",
        "print(y)\n"
      ]
    },
    {
      "cell_type": "code",
      "source": [
        "a=20\n",
        "b=30\n",
        "print(a+b)\n"
      ],
      "metadata": {
        "colab": {
          "base_uri": "https://localhost:8080/"
        },
        "id": "qCbJHIRXd8XX",
        "outputId": "86d42c29-ae8d-4a16-dcd2-ad853fa862a1"
      },
      "execution_count": 2,
      "outputs": [
        {
          "output_type": "stream",
          "name": "stdout",
          "text": [
            "50\n"
          ]
        }
      ]
    },
    {
      "cell_type": "code",
      "source": [
        "price=88.8\n",
        "print(price)"
      ],
      "metadata": {
        "colab": {
          "base_uri": "https://localhost:8080/"
        },
        "id": "T6p06sR2frFo",
        "outputId": "29cb09ba-4afa-43e8-d730-db9196a6cdcf"
      },
      "execution_count": 3,
      "outputs": [
        {
          "output_type": "stream",
          "name": "stdout",
          "text": [
            "88.8\n"
          ]
        }
      ]
    },
    {
      "cell_type": "code",
      "source": [
        "is_valid=True\n",
        "print(is_valid)\n",
        "is_valid=False\n",
        "print(is_valid)\n"
      ],
      "metadata": {
        "colab": {
          "base_uri": "https://localhost:8080/"
        },
        "id": "29dtF_6dgbU_",
        "outputId": "d13f5d1d-da9a-47ee-e839-e55b9f27f837"
      },
      "execution_count": 5,
      "outputs": [
        {
          "output_type": "stream",
          "name": "stdout",
          "text": [
            "True\n",
            "False\n"
          ]
        }
      ]
    },
    {
      "cell_type": "code",
      "source": [
        "x,y,z=20,40,60\n",
        "print(x,y,z)\n"
      ],
      "metadata": {
        "colab": {
          "base_uri": "https://localhost:8080/"
        },
        "id": "Ir8CMGp1g744",
        "outputId": "9a3724a2-72f1-4396-abf8-bde17fa19393"
      },
      "execution_count": 6,
      "outputs": [
        {
          "output_type": "stream",
          "name": "stdout",
          "text": [
            "20 40 60\n"
          ]
        }
      ]
    },
    {
      "cell_type": "code",
      "source": [
        "p=q=r=200\n",
        "print(p,q,r)\n"
      ],
      "metadata": {
        "colab": {
          "base_uri": "https://localhost:8080/"
        },
        "id": "FCRnzd6MhHx_",
        "outputId": "f64e33da-2a9a-4bdd-bf3d-689c206e60ef"
      },
      "execution_count": 7,
      "outputs": [
        {
          "output_type": "stream",
          "name": "stdout",
          "text": [
            "200 200 200\n"
          ]
        }
      ]
    },
    {
      "cell_type": "code",
      "source": [
        "age=35\n",
        "print(age)\n",
        "age=50\n",
        "print(age)\n"
      ],
      "metadata": {
        "colab": {
          "base_uri": "https://localhost:8080/"
        },
        "id": "OOBcwgr5hWfI",
        "outputId": "0212e304-2804-4418-e76f-70e52f10d3d5"
      },
      "execution_count": 8,
      "outputs": [
        {
          "output_type": "stream",
          "name": "stdout",
          "text": [
            "35\n",
            "50\n"
          ]
        }
      ]
    },
    {
      "cell_type": "code",
      "source": [
        "value=60\n",
        "del value\n",
        "# print(value) # This will cause an error since value is deleted."
      ],
      "metadata": {
        "id": "KUCK1ZC4hr-3"
      },
      "execution_count": 14,
      "outputs": []
    },
    {
      "cell_type": "code",
      "source": [
        "message=\"Hello,World!\"\n",
        "print(len(message))\n"
      ],
      "metadata": {
        "colab": {
          "base_uri": "https://localhost:8080/"
        },
        "id": "IfSEiQ-Ni04I",
        "outputId": "f34b8d08-de86-41e9-e077-c71809bf51dd"
      },
      "execution_count": 15,
      "outputs": [
        {
          "output_type": "stream",
          "name": "stdout",
          "text": [
            "12\n"
          ]
        }
      ]
    },
    {
      "cell_type": "code",
      "source": [
        "data=42\n",
        "print(data)\n",
        "data=str(data)\n",
        "print(data)"
      ],
      "metadata": {
        "colab": {
          "base_uri": "https://localhost:8080/"
        },
        "id": "dTTK-v6OjIef",
        "outputId": "a0f6842b-678e-4db0-bb4e-3f8028dc8471"
      },
      "execution_count": 16,
      "outputs": [
        {
          "output_type": "stream",
          "name": "stdout",
          "text": [
            "42\n",
            "42\n"
          ]
        }
      ]
    },
    {
      "cell_type": "code",
      "source": [
        "num=5\n",
        "if  num>0:\n",
        "  print(\"Positive Number\")\n",
        ""
      ],
      "metadata": {
        "colab": {
          "base_uri": "https://localhost:8080/"
        },
        "id": "OEjQa6HTlnhI",
        "outputId": "4f4fc49d-4a61-4c36-a935-6f8718a58deb"
      },
      "execution_count": 17,
      "outputs": [
        {
          "output_type": "stream",
          "name": "stdout",
          "text": [
            "Positive Number\n"
          ]
        }
      ]
    },
    {
      "cell_type": "code",
      "source": [
        "age=40\n",
        "if age>=38:\n",
        "  print(\"Eligible to vote\")\n",
        "else:\n",
        "  print(\"Not eligible to vote\")\n"
      ],
      "metadata": {
        "colab": {
          "base_uri": "https://localhost:8080/"
        },
        "id": "ww94wO8ql_Qv",
        "outputId": "314e1737-f9ee-4576-c219-e23bfc40db8e"
      },
      "execution_count": 24,
      "outputs": [
        {
          "output_type": "stream",
          "name": "stdout",
          "text": [
            "Eligible to vote\n"
          ]
        }
      ]
    },
    {
      "cell_type": "code",
      "source": [
        "num=-3\n",
        "if num>0:\n",
        "      print(\"Positive\")\n",
        "      0\n",
        "elif num<0:\n",
        "      print(\"Negative\")\n",
        "else:\n",
        "      print(\"Zero\")"
      ],
      "metadata": {
        "colab": {
          "base_uri": "https://localhost:8080/"
        },
        "id": "AdZHEODZmy0Y",
        "outputId": "e5bbdf7f-ce27-4a9c-c6f0-f7e9720d9c1a"
      },
      "execution_count": 32,
      "outputs": [
        {
          "output_type": "stream",
          "name": "stdout",
          "text": [
            "Negative\n"
          ]
        }
      ]
    },
    {
      "cell_type": "code",
      "source": [
        "num=7\n",
        "if num % 2 ==0:\n",
        "     print(\"Even\")\n",
        "else:\n",
        "     print(\"Odd\")\n"
      ],
      "metadata": {
        "colab": {
          "base_uri": "https://localhost:8080/"
        },
        "id": "-sf9Wy8Jn_f5",
        "outputId": "f5a04fe4-70c4-4914-b21a-bcf4f91e09b7"
      },
      "execution_count": 36,
      "outputs": [
        {
          "output_type": "stream",
          "name": "stdout",
          "text": [
            "Odd\n"
          ]
        }
      ]
    },
    {
      "cell_type": "code",
      "source": [
        "num=8\n",
        "if num>0:\n",
        "  if num %2 ==0:\n",
        "    print(\"Positive and Even\")"
      ],
      "metadata": {
        "colab": {
          "base_uri": "https://localhost:8080/"
        },
        "id": "DrQvp0_3o4uo",
        "outputId": "0504815b-d655-440a-a86b-9b6b17714e4a"
      },
      "execution_count": 37,
      "outputs": [
        {
          "output_type": "stream",
          "name": "stdout",
          "text": [
            "Positive and Even\n"
          ]
        }
      ]
    },
    {
      "cell_type": "code",
      "source": [
        "x=20\n",
        "if x ==20:\n",
        "  print(\"Python is cool\")"
      ],
      "metadata": {
        "colab": {
          "base_uri": "https://localhost:8080/"
        },
        "id": "aUfqcCoopLuG",
        "outputId": "4bf9f65a-c010-4069-d5f0-daeb5e53c137"
      },
      "execution_count": 38,
      "outputs": [
        {
          "output_type": "stream",
          "name": "stdout",
          "text": [
            "Python is cool\n"
          ]
        }
      ]
    },
    {
      "cell_type": "code",
      "source": [
        "num=14\n",
        "print(\"Even\" if num % 2 ==0 else \"Odd\")\n"
      ],
      "metadata": {
        "colab": {
          "base_uri": "https://localhost:8080/"
        },
        "id": "yA5XT2EepUbf",
        "outputId": "8c33ed01-c8e6-4fb7-9694-3ad9b44ee7fd"
      },
      "execution_count": 39,
      "outputs": [
        {
          "output_type": "stream",
          "name": "stdout",
          "text": [
            "Even\n"
          ]
        }
      ]
    },
    {
      "cell_type": "code",
      "source": [
        "text=\"I love Python Programming.\"\n",
        "if \"Python\" in text:\n",
        "  print(\"String contains 'Python'\")\n"
      ],
      "metadata": {
        "colab": {
          "base_uri": "https://localhost:8080/"
        },
        "id": "AM07WOobpjcf",
        "outputId": "153fd25a-cfb0-441f-8263-8bace560c757"
      },
      "execution_count": 40,
      "outputs": [
        {
          "output_type": "stream",
          "name": "stdout",
          "text": [
            "String contains 'Python'\n"
          ]
        }
      ]
    },
    {
      "cell_type": "code",
      "source": [
        "num=15\n",
        "if num % 3 ==0 and num %5 ==0:\n",
        "    print(\"Not divisible by both 3 and 5\")\n",
        "else:\n",
        "    print(\"Not divisible by both 3 and 5\")\n"
      ],
      "metadata": {
        "colab": {
          "base_uri": "https://localhost:8080/"
        },
        "id": "0orm3zZCp8tQ",
        "outputId": "fce324bd-c2df-4809-9e97-201eb9523133"
      },
      "execution_count": 44,
      "outputs": [
        {
          "output_type": "stream",
          "name": "stdout",
          "text": [
            "Not divisible by both 3 and 5\n"
          ]
        }
      ]
    },
    {
      "cell_type": "code",
      "source": [
        "year=2024\n",
        "if(year % 4 ==0 and year % 100!=0) or (year % 400 ==0):\n",
        "   print(\"Leap Year\")\n",
        "else:\n",
        "   print(\"Not Leap Year\")\n"
      ],
      "metadata": {
        "colab": {
          "base_uri": "https://localhost:8080/"
        },
        "id": "59BrDj-YrKK_",
        "outputId": "a9fbda09-b944-401e-b07d-05e6fc6eb844"
      },
      "execution_count": 48,
      "outputs": [
        {
          "output_type": "stream",
          "name": "stdout",
          "text": [
            "Leap Year\n"
          ]
        }
      ]
    },
    {
      "cell_type": "code",
      "source": [],
      "metadata": {
        "id": "dw2WTs3IsNpH"
      },
      "execution_count": null,
      "outputs": []
    }
  ]
}